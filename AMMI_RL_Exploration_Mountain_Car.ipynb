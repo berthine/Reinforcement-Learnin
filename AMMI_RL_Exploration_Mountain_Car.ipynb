{
  "nbformat": 4,
  "nbformat_minor": 0,
  "metadata": {
    "kernelspec": {
      "display_name": "Python 3",
      "language": "python",
      "name": "python3"
    },
    "language_info": {
      "codemirror_mode": {
        "name": "ipython",
        "version": 3
      },
      "file_extension": ".py",
      "mimetype": "text/x-python",
      "name": "python",
      "nbconvert_exporter": "python",
      "pygments_lexer": "ipython3",
      "version": "3.8.1"
    },
    "colab": {
      "name": "Copy of AMMI RL - Exploration - Mountain Car.ipynb",
      "provenance": [],
      "collapsed_sections": [],
      "include_colab_link": true
    }
  },
  "cells": [
    {
      "cell_type": "markdown",
      "metadata": {
        "id": "view-in-github",
        "colab_type": "text"
      },
      "source": [
        "<a href=\"https://colab.research.google.com/github/berthine/Reinforcement-Learnin/blob/master/AMMI_RL_Exploration_Mountain_Car.ipynb\" target=\"_parent\"><img src=\"https://colab.research.google.com/assets/colab-badge.svg\" alt=\"Open In Colab\"/></a>"
      ]
    },
    {
      "cell_type": "code",
      "metadata": {
        "id": "780D9u4ZZxWo",
        "colab_type": "code",
        "colab": {}
      },
      "source": [
        "!pip install gym > /dev/null 2>&1"
      ],
      "execution_count": 0,
      "outputs": []
    },
    {
      "cell_type": "code",
      "metadata": {
        "id": "x20JG4VuaEND",
        "colab_type": "code",
        "colab": {}
      },
      "source": [
        "!pip install gym pyvirtualdisplay > /dev/null 2>&1\n",
        "!apt-get install -y xvfb python-opengl ffmpeg > /dev/null 2>&1"
      ],
      "execution_count": 0,
      "outputs": []
    },
    {
      "cell_type": "code",
      "metadata": {
        "id": "E46IaY_5aEtf",
        "colab_type": "code",
        "outputId": "8a03185a-28d4-42f5-e1f7-1b4d86bd5070",
        "colab": {
          "base_uri": "https://localhost:8080/",
          "height": 34
        }
      },
      "source": [
        "!apt-get update > /dev/null 2>&1\n",
        "!apt-get install cmake > /dev/null 2>&1\n",
        "!pip install --upgrade setuptools 2>&1\n",
        "!pip install ez_setup > /dev/null 2>&1"
      ],
      "execution_count": 3,
      "outputs": [
        {
          "output_type": "stream",
          "text": [
            "Requirement already up-to-date: setuptools in /usr/local/lib/python3.6/dist-packages (45.2.0)\n"
          ],
          "name": "stdout"
        }
      ]
    },
    {
      "cell_type": "code",
      "metadata": {
        "id": "_UWM-gGi76pF",
        "colab_type": "code",
        "colab": {}
      },
      "source": [
        "!git clone https://github.com/rlgammazero/mvarl_hands_on.git > /dev/null 2>&1"
      ],
      "execution_count": 0,
      "outputs": []
    },
    {
      "cell_type": "code",
      "metadata": {
        "id": "J5EbzJ1A78Bk",
        "colab_type": "code",
        "colab": {}
      },
      "source": [
        "import sys\n",
        "sys.path.insert(0, './mvarl_hands_on/utils')"
      ],
      "execution_count": 0,
      "outputs": []
    },
    {
      "cell_type": "code",
      "metadata": {
        "id": "KDPYhYvR7yKZ",
        "colab_type": "code",
        "colab": {}
      },
      "source": [
        "import numpy as np\n",
        "import cvxpy as cp\n",
        "import matplotlib.pyplot as plt\n",
        "%matplotlib inline\n",
        "\n",
        "import gym\n",
        "from gym import logger as gymlogger\n",
        "from gym.wrappers import Monitor\n",
        "gymlogger.set_level(40) #error only\n",
        "\n",
        "import seaborn as sns\n",
        "from pyvirtualdisplay import Display\n",
        "from IPython import display as ipythondisplay\n",
        "from IPython.display import clear_output\n",
        "from pathlib import Path\n",
        "\n",
        "import random, os.path, math, glob, csv, base64, itertools, sys\n",
        "from pprint import pprint\n",
        "\n",
        "import matplotlib\n",
        "import matplotlib.pyplot as plt\n",
        "%matplotlib inline\n",
        "import io\n",
        "from IPython.display import HTML\n",
        "\n",
        "from copy import deepcopy"
      ],
      "execution_count": 0,
      "outputs": []
    },
    {
      "cell_type": "markdown",
      "metadata": {
        "id": "S5twn7Qv7yKf",
        "colab_type": "text"
      },
      "source": [
        "# Discretization of the state space"
      ]
    },
    {
      "cell_type": "code",
      "metadata": {
        "id": "f3WTC2o2coW_",
        "colab_type": "code",
        "colab": {}
      },
      "source": [
        "from discretization import Discretizer # 'cause we want to optimize\n",
        "\n",
        "class DiscretizedMountainCar(gym.Wrapper):\n",
        "    def __init__(self, n_bins):\n",
        "        env_id = 'MountainCar-v0' \n",
        "        env = gym.make(env_id)\n",
        "        self.env = env\n",
        "        super().__init__(env)\n",
        "        self.min_reward = -1.0\n",
        "        self.max_reward = 0.0\n",
        "\n",
        "        LM = env.observation_space.low\n",
        "        HM = env.observation_space.high\n",
        "        D = len(HM)\n",
        "\n",
        "        bins = []\n",
        "        for i in range(D):\n",
        "            V = np.linspace(LM[i], HM[i], n_bins)\n",
        "            bins.append(V[1:-1])\n",
        "        self.grid = Discretizer(bins=bins)\n",
        "\n",
        "        # Number of states\n",
        "        self.S = self.grid.n_bins()\n",
        "        # Number of actions\n",
        "        self.A = self.env.action_space.n\n",
        "\n",
        "    def step(self, action):\n",
        "        next_state, reward, done, info = self.env.step(action)\n",
        "        reward = (reward - self.min_reward) / (self.max_reward - self.min_reward)\n",
        "        if done:\n",
        "            next_state = self.env.reset()\n",
        "            reward = 1.0\n",
        "        done = False \n",
        "        next_state = self.grid.dpos(next_state)\n",
        "        return next_state, reward, done, info\n",
        "\n",
        "    def reset(self):\n",
        "        state = self.env.reset()\n",
        "        state = self.grid.dpos(state)\n",
        "        return state\n",
        "\n",
        "# Environment\n",
        "n_bins = 10\n",
        "env = DiscretizedMountainCar(n_bins)\n",
        "\n",
        "# Horizon\n",
        "H = 180"
      ],
      "execution_count": 0,
      "outputs": []
    },
    {
      "cell_type": "code",
      "metadata": {
        "id": "7l8433mz7yKh",
        "colab_type": "code",
        "colab": {}
      },
      "source": [
        ""
      ],
      "execution_count": 0,
      "outputs": []
    },
    {
      "cell_type": "markdown",
      "metadata": {
        "id": "hiXHdYle7yKm",
        "colab_type": "text"
      },
      "source": [
        "# Backward induction (aka Value Iteration)"
      ]
    },
    {
      "cell_type": "code",
      "metadata": {
        "id": "Q_KZXn8A7yKo",
        "colab_type": "code",
        "colab": {}
      },
      "source": [
        "def backward_induction(P, R, H):\n",
        "    \"\"\"\n",
        "        Parameters:\n",
        "            P: transition function (S,A,S)-dim matrix\n",
        "            R: reward function (S,A)-dim matrix\n",
        "            H: horizon\n",
        "\n",
        "        Returns:\n",
        "            The optimal V-function: array of shape (horizon, S)\n",
        "            The optimal policy\n",
        "        \n",
        "        V[h, s]\n",
        "    \"\"\"\n",
        "    S, A = P.shape[0], P.shape[1]\n",
        "    policy = np.zeros((H, S), dtype=np.int)\n",
        "    V = np.zeros((H + 1, S))\n",
        "    for h in reversed(range(H)):\n",
        "        for s in range(S):\n",
        "            \"\"\" \n",
        "            Here, we compute V^*(h, s) using the Bellman optimality equation:\n",
        "\n",
        "            V[h, s] = max_a  R[s, a] + sum_{s'} P[s, a, s']*V[h+1, s']\n",
        "            \"\"\"\n",
        "            for a in range(A):\n",
        "                tmp = R[s, a] + np.dot(P[s, a],  V[h + 1])\n",
        "                if (a == 0) or (tmp > V[h, s]):\n",
        "                    policy[h, s] = a\n",
        "                    V[h, s] = tmp\n",
        "    return V, policy"
      ],
      "execution_count": 0,
      "outputs": []
    },
    {
      "cell_type": "markdown",
      "metadata": {
        "id": "pvmhRCN07yKs",
        "colab_type": "text"
      },
      "source": [
        "Compute solution"
      ]
    },
    {
      "cell_type": "markdown",
      "metadata": {
        "id": "v1nCGWuw7yKy",
        "colab_type": "text"
      },
      "source": [
        "## UCBVI (UCRL with exploration bonus)"
      ]
    },
    {
      "cell_type": "code",
      "metadata": {
        "id": "pk0v7jg67yK7",
        "colab_type": "code",
        "colab": {}
      },
      "source": [
        "def UCRL(mdp, H, nb_episodes, VSTAR=0, scale_factor = 2.0):\n",
        "    S, A = mdp.S, mdp.A\n",
        "    policy = np.zeros((H, S), dtype=np.int)\n",
        "    Phat = np.ones((S,A,S)) / S\n",
        "    Rhat = np.zeros((S,A))\n",
        "    N_sas = np.zeros((S,A,S), dtype=np.int)\n",
        "    N_sa = np.zeros((S,A), dtype=np.int)\n",
        "    episode_rewards = np.zeros((nb_episodes,))\n",
        "  \n",
        "    V = H*np.ones((H + 1, S))\n",
        "    V[H, :] = 0\n",
        "\n",
        "    S_sa = np.zeros((S,A)) \n",
        "    for k in range(nb_episodes):\n",
        "        sum_rewards = 0\n",
        "        # run optimistic value iteration\n",
        "        V.fill(0)\n",
        "        for h in reversed(range(H)):\n",
        "            for s in range(S):\n",
        "                temp = np.zeros(A)\n",
        "                for a in range(A):\n",
        "                    nn = N_sa[s, a] + 1\n",
        "                    bonus = scale_factor*np.sqrt(1.0/nn)\n",
        "                    temp[a] = Rhat[s, a] + Phat[s, a].dot(V[h + 1]) + bonus\n",
        "\n",
        "                V[h, s] = min(H-h, temp.max())\n",
        "                policy[h, s] = temp.argmax()\n",
        "        # execute policy\n",
        "        initial_state = state = mdp.reset()\n",
        "        for h in range(H):\n",
        "            action = policy[h][state]\n",
        "            next_state, reward, done, _ = mdp.step(action)\n",
        "\n",
        "            sum_rewards += reward\n",
        "            \n",
        "            # update estimates (Phat, Rhat, N_sa, N_sas)\n",
        "            N_sa[state, action] += 1\n",
        "            N_sas[state, action, next_state] +=1\n",
        "            S_sa[state, action] += reward\n",
        "            \n",
        "            Rhat[state, action] = S_sa[state, action]/N_sa[state, action]\n",
        "            Phat[state, action, :] = N_sas[state, action, :]/N_sa[state, action]\n",
        "\n",
        "            \n",
        "            state = next_state\n",
        "        \n",
        "        # update regret\n",
        "        episode_rewards[k] = sum_rewards\n",
        "        \n",
        "        if k % 5 == 0 or k==1:\n",
        "            print(\"rewards[{}]: {}\".format(k, episode_rewards[k]), end = \", \")\n",
        "            print(\"Number of visited states: \", (N_sa.sum(axis=1) > 0).sum() )\n",
        "            # print(V[0, :])\n",
        "\n",
        "    return episode_rewards, N_sa, Rhat, Phat, policy"
      ],
      "execution_count": 0,
      "outputs": []
    },
    {
      "cell_type": "code",
      "metadata": {
        "id": "0-UTr3Gq7yK_",
        "colab_type": "code",
        "outputId": "72664da3-5546-4844-c6e5-a5dd3e24d714",
        "colab": {
          "base_uri": "https://localhost:8080/",
          "height": 399
        }
      },
      "source": [
        "nb_repetitions = 1\n",
        "nb_episodes = 100\n",
        "rewards = np.zeros((nb_repetitions, nb_episodes))\n",
        "for it in range(nb_repetitions):\n",
        "    print(\"Running simulation: {}\".format(it))\n",
        "    rewards[it], N_sa, Rhat, Phat, policy = UCRL(mdp=env, H=H, nb_episodes=nb_episodes)"
      ],
      "execution_count": 18,
      "outputs": [
        {
          "output_type": "stream",
          "text": [
            "Running simulation: 0\n",
            "rewards[0]: 0.0, Number of visited states:  8\n",
            "rewards[1]: 0.0, Number of visited states:  8\n",
            "rewards[5]: 0.0, Number of visited states:  20\n",
            "rewards[10]: 0.0, Number of visited states:  34\n",
            "rewards[15]: 0.0, Number of visited states:  44\n",
            "rewards[20]: 0.0, Number of visited states:  48\n",
            "rewards[25]: 0.0, Number of visited states:  51\n",
            "rewards[30]: 0.0, Number of visited states:  54\n",
            "rewards[35]: 1.0, Number of visited states:  58\n",
            "rewards[40]: 0.0, Number of visited states:  59\n",
            "rewards[45]: 0.0, Number of visited states:  59\n",
            "rewards[50]: 1.0, Number of visited states:  59\n",
            "rewards[55]: 1.0, Number of visited states:  60\n",
            "rewards[60]: 1.0, Number of visited states:  62\n",
            "rewards[65]: 1.0, Number of visited states:  63\n",
            "rewards[70]: 0.0, Number of visited states:  63\n",
            "rewards[75]: 0.0, Number of visited states:  64\n",
            "rewards[80]: 1.0, Number of visited states:  64\n",
            "rewards[85]: 0.0, Number of visited states:  64\n",
            "rewards[90]: 0.0, Number of visited states:  64\n",
            "rewards[95]: 0.0, Number of visited states:  64\n"
          ],
          "name": "stdout"
        }
      ]
    },
    {
      "cell_type": "code",
      "metadata": {
        "id": "defhQH1NNQUD",
        "colab_type": "code",
        "outputId": "9472ce10-13b5-444b-e06b-9ac2f042d8eb",
        "colab": {
          "base_uri": "https://localhost:8080/",
          "height": 282
        }
      },
      "source": [
        "plt.plot(np.cumsum(rewards), label=\"Sum of rewards:\")\n",
        "plt.legend()"
      ],
      "execution_count": 19,
      "outputs": [
        {
          "output_type": "execute_result",
          "data": {
            "text/plain": [
              "<matplotlib.legend.Legend at 0x7f8f337b10f0>"
            ]
          },
          "metadata": {
            "tags": []
          },
          "execution_count": 19
        },
        {
          "output_type": "display_data",
          "data": {
            "image/png": "[encoded data removed]",
            "text/plain": [
              "<Figure size 432x288 with 1 Axes>"
            ]
          },
          "metadata": {
            "tags": []
          }
        }
      ]
    },
    {
      "cell_type": "code",
      "metadata": {
        "id": "uhDoPAA5YCLJ",
        "colab_type": "code",
        "outputId": "ca9b33c8-4116-4576-ade6-d475ab42d9c7",
        "colab": {
          "base_uri": "https://localhost:8080/",
          "height": 439
        }
      },
      "source": [
        "# The following code is will be used to visualize the environments.\n",
        "def show_video(directory):\n",
        "    html = []\n",
        "    for mp4 in Path(directory).glob(\"*.mp4\"):\n",
        "        video_b64 = base64.b64encode(mp4.read_bytes())\n",
        "        html.append('''<video alt=\"{}\" autoplay \n",
        "                      loop controls style=\"height: 400px;\">\n",
        "                      <source src=\"data:video/mp4;base64,{}\" type=\"video/mp4\" />\n",
        "                 </video>'''.format(mp4, video_b64.decode('ascii')))\n",
        "    ipythondisplay.display(ipythondisplay.HTML(data=\"<br>\".join(html)))\n",
        "    \n",
        "def make_seed(seed):\n",
        "    np.random.seed(seed=seed)\n",
        "    torch.manual_seed(seed=seed)\n",
        "  \n",
        "from pyvirtualdisplay import Display\n",
        "display = Display(visible=0, size=(1400, 900))\n",
        "display.start()\n",
        "\n",
        "env = Monitor(env, \"./gym-results\", force=True, video_callable=lambda episode: True)\n",
        "\n",
        "state = env.reset()\n",
        "for hh in range(H): \n",
        "    action = policy[hh, state]\n",
        "    state, reward, done, info = env.step(action)\n",
        "env.close()\n",
        "show_video(\"./gym-results\")"
      ],
      "execution_count": 17,
      "outputs": [
        {
          "output_type": "stream",
          "text": [
            "xdpyinfo was not found, X start can not be checked! Please install xdpyinfo!\n"
          ],
          "name": "stderr"
        },
        {
          "output_type": "display_data",
          "data": {
            "text/html": [
              "<video alt=\"gym-results/openaigym.video.2.923.video000000.mp4\" autoplay \n",
              "                      loop controls style=\"height: 400px;\">\n",
              "                      <source src=\"data:video/mp4;base64,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\" type=\"video/mp4\" />\n",
              "                 </video>"
            ],
            "text/plain": [
              "<IPython.core.display.HTML object>"
            ]
          },
          "metadata": {
            "tags": []
          }
        }
      ]
    }
  ]
}