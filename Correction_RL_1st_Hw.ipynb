{
  "nbformat": 4,
  "nbformat_minor": 0,
  "metadata": {
    "kernelspec": {
      "display_name": "Python 3",
      "language": "python",
      "name": "python3"
    },
    "language_info": {
      "codemirror_mode": {
        "name": "ipython",
        "version": 3
      },
      "file_extension": ".py",
      "mimetype": "text/x-python",
      "name": "python",
      "nbconvert_exporter": "python",
      "pygments_lexer": "ipython3",
      "version": "3.6.8"
    },
    "colab": {
      "name": "AIMS_2020 Correction.ipynb",
      "provenance": [],
      "collapsed_sections": [],
      "include_colab_link": true
    }
  },
  "cells": [
    {
      "cell_type": "markdown",
      "metadata": {
        "id": "view-in-github",
        "colab_type": "text"
      },
      "source": [
        "<a href=\"https://colab.research.google.com/github/berthine/Reinforcement-Learnin/blob/master/Correction_RL_1st_Hw.ipynb\" target=\"_parent\"><img src=\"https://colab.research.google.com/assets/colab-badge.svg\" alt=\"Open In Colab\"/></a>"
      ]
    },
    {
      "cell_type": "markdown",
      "metadata": {
        "id": "QYW2YAMZOX4-",
        "colab_type": "text"
      },
      "source": [
        "# Reinforcement Learning in Finite MDPs"
      ]
    },
    {
      "cell_type": "markdown",
      "metadata": {
        "id": "AFu6XLHrtIa6",
        "colab_type": "text"
      },
      "source": [
        ""
      ]
    },
    {
      "cell_type": "code",
      "metadata": {
        "id": "8K4vLMPTSxmn",
        "colab_type": "code",
        "outputId": "6808a46c-fb43-4314-8ac4-201d1ce0ec4d",
        "colab": {
          "base_uri": "https://localhost:8080/",
          "height": 35
        }
      },
      "source": [
        "!git clone https://github.com/rlgammazero/mvarl_hands_on.git > /dev/null 2>&1\n",
        "!cd mvarl_hands_on && git pull"
      ],
      "execution_count": 0,
      "outputs": [
        {
          "output_type": "stream",
          "text": [
            "Already up to date.\n"
          ],
          "name": "stdout"
        }
      ]
    },
    {
      "cell_type": "markdown",
      "metadata": {
        "id": "NNsuKZxeOX4_",
        "colab_type": "text"
      },
      "source": [
        "## MDPs"
      ]
    },
    {
      "cell_type": "code",
      "metadata": {
        "id": "bNlEnGsYOX5A",
        "colab_type": "code",
        "colab": {}
      },
      "source": [
        "import sys\n",
        "sys.path.insert(0, './mvarl_hands_on/utils')\n",
        "import numpy as np\n",
        "import matplotlib.pyplot as plt\n",
        "import json\n",
        "import math\n",
        "from gridworld import GridWorldWithPits"
      ],
      "execution_count": 0,
      "outputs": []
    },
    {
      "cell_type": "markdown",
      "metadata": {
        "id": "puk7xD1EBDEu",
        "colab_type": "text"
      },
      "source": [
        "## Define the environment"
      ]
    },
    {
      "cell_type": "code",
      "metadata": {
        "id": "ezz31WR2uJFX",
        "colab_type": "code",
        "colab": {}
      },
      "source": [
        "from finite_env import FiniteEnv\n",
        "import numpy as np\n",
        "\n",
        "class RobotEnv(FiniteEnv):\n",
        "    \"\"\"\n",
        "    Enviroment with 2 states and 3 actions\n",
        "    Args:\n",
        "        gamma (float): discount factor\n",
        "        seed    (int): Random number generator seed\n",
        "    \"\"\"\n",
        "\n",
        "    def __init__(self, gamma=0.5, seed=42):\n",
        "        # Set seed\n",
        "        self.RS = np.random.RandomState(seed)\n",
        "\n",
        "        # Transition probabilities\n",
        "        # shape (Ns, Na, Ns)\n",
        "        # P[s, a, s'] = Prob(S_{t+1}=s'| S_t = s, A_t = a)\n",
        "\n",
        "        Ns = 2\n",
        "        Na = 3\n",
        "        \n",
        "        P = np.array([[[1, 0], [3/4, 1/4], [1, 0]], [[0,1],[1,0], [1,0]]])\n",
        "        self._R = np.array([[0,1,-0.5], [0, -1, 0]])\n",
        "\n",
        "        self.state_decoder  = {0: \"A\", 1: \"B\"}\n",
        "        self.action_decoder = {0: \"WAIT\", 1: \"SEARCH\", 2: \"RECHARGE\"}\n",
        "        \n",
        "        # Initialize base class\n",
        "        states = np.arange(Ns).tolist()\n",
        "        action_sets = [np.arange(Na).tolist()]*Ns\n",
        "        super().__init__(states, action_sets, P, gamma)\n",
        "\n",
        "    def reward_func(self, state, action, *_):\n",
        "        return self._R[state, action]\n",
        "\n",
        "    def reset(self, s=0):\n",
        "        self.state = s\n",
        "        return self.state\n",
        "\n",
        "    def step(self, action):\n",
        "        next_state = self.sample_transition(self.state, action)\n",
        "        reward = self.reward_func(self.state, action, next_state)\n",
        "        done = False\n",
        "        info = {\"str\" : \"In {} do {} arrive at {} get {}\".format(\n",
        "            self.state_decoder[state],\n",
        "            self.action_decoder[action],\n",
        "            self.state_decoder[next_state],\n",
        "            reward )}\n",
        "        self.state = next_state\n",
        "\n",
        "        observation = next_state\n",
        "        return observation, reward, done, info\n",
        "\n",
        "    def sample_transition(self, s, a):\n",
        "        prob = self.P[s,a,:]\n",
        "        s_ = self.RS.choice(self.states, p = prob)\n",
        "        return s_\n",
        "\n",
        "    def render_policy(self, policy):\n",
        "      if len(np.array(policy).shape) > 1:\n",
        "        policy = densify_policy(policy)\n",
        "\n",
        "      txt = \"\"\n",
        "      for i, a in enumerate(policy):\n",
        "        txt += \"In state {} perform {}\\n\".format(self.state_decoder[i], self.action_decoder[a])\n",
        "      return txt[:-1]\n",
        "\n",
        "    @property\n",
        "    def R(self):\n",
        "        return self._R\n",
        "  \n",
        "env = RobotEnv()"
      ],
      "execution_count": 0,
      "outputs": []
    },
    {
      "cell_type": "markdown",
      "metadata": {
        "id": "Hdzoq4dLOX5C",
        "colab_type": "text"
      },
      "source": [
        "Setting up the environment"
      ]
    },
    {
      "cell_type": "code",
      "metadata": {
        "id": "WVHOHJJeOX5C",
        "colab_type": "code",
        "outputId": "43403cf2-21e1-4832-a261-7fd0a4c8e170",
        "colab": {
          "base_uri": "https://localhost:8080/",
          "height": 363
        }
      },
      "source": [
        "# Useful attributes\n",
        "print(\"Set of states:\", env.states)\n",
        "print(\"Set of actions:\", env.actions)\n",
        "print(\"Number of states: \", env.Ns)\n",
        "print(\"Number of actions: \", env.Na)\n",
        "print(\"P has shape: \", env.P.shape)  # P[s'|s,a] = P[s, a, s'] = env.P[s, a, s']\n",
        "print(\"R has shape: \", env.R.shape)  \n",
        "print(\"discount factor: \", env.gamma)\n",
        "print(\"\")\n",
        "\n",
        "# Usefult methods\n",
        "state = env.reset() # get initial state\n",
        "print(\"initial state: \", state)\n",
        "print(\"reward at (s=0, a=1): \", env.reward_func(0,1))\n",
        "print(\"\")\n",
        "\n",
        "# A random policy\n",
        "policy = np.random.randint(env.Na, size = (env.Ns,))\n",
        "print(\"random policy = \", policy)\n",
        "print(env.render_policy(policy))\n",
        "\n",
        "# Interacting with the environment\n",
        "print(\"(s, a, s', r):\")\n",
        "for time in range(4):\n",
        "    action = policy[state]\n",
        "    next_state, reward, done, info = env.step(action)\n",
        "    print(state, action, next_state, reward, \"   --> \" + info[\"str\"] if \"str\" in info else \"\") \n",
        "    if done:\n",
        "        break\n",
        "    state = next_state\n",
        "print(\"\")\n"
      ],
      "execution_count": 0,
      "outputs": [
        {
          "output_type": "stream",
          "text": [
            "Set of states: [0, 1]\n",
            "Set of actions: [0, 1, 2]\n",
            "Number of states:  2\n",
            "Number of actions:  3\n",
            "P has shape:  (2, 3, 2)\n",
            "R has shape:  (2, 3)\n",
            "discount factor:  0.5\n",
            "\n",
            "initial state:  0\n",
            "reward at (s=0, a=1):  1.0\n",
            "\n",
            "random policy =  [0 0]\n",
            "In state A perform WAIT\n",
            "In state B perform WAIT\n",
            "(s, a, s', r):\n",
            "0 0 0 0.0    --> In A do WAIT arrive at A get 0.0\n",
            "0 0 0 0.0    --> In A do WAIT arrive at A get 0.0\n",
            "0 0 0 0.0    --> In A do WAIT arrive at A get 0.0\n",
            "0 0 0 0.0    --> In A do WAIT arrive at A get 0.0\n",
            "\n"
          ],
          "name": "stdout"
        }
      ]
    },
    {
      "cell_type": "markdown",
      "metadata": {
        "id": "7YM7lLbRA68A",
        "colab_type": "text"
      },
      "source": [
        "## Useful functions\n"
      ]
    },
    {
      "cell_type": "code",
      "metadata": {
        "id": "sekFIFmm6V71",
        "colab_type": "code",
        "colab": {}
      },
      "source": [
        "def sparsify_policy(policy, Na):\n",
        "  ### Turn a dense policy into a sparse one.\n",
        "  #  Ex: [0, 1], Na=2  -> [[1, 0, 0], [0, 1, 0]]\n",
        "  ###\n",
        "\n",
        "  Ns = len(policy)\n",
        "  sparse_policy = np.zeros(shape=(Ns, Na))\n",
        "  for i, a in enumerate(policy):\n",
        "    sparse_policy[i,a]=1\n",
        "  return sparse_policy\n",
        "\n",
        "def densify_policy(policy):\n",
        "  ### Turn a sparse determinist policy into a dense one.\n",
        "  #  Ex: [[1, 0, 0], [0, 1, 0]] -> [0, 1]\n",
        "  ###\n",
        "  return np.array(policy).argmax(axis=1)\n"
      ],
      "execution_count": 0,
      "outputs": []
    },
    {
      "cell_type": "markdown",
      "metadata": {
        "id": "4dyTP0kkAXKo",
        "colab_type": "text"
      },
      "source": [
        "## Exercice : Policy Evaluation\n",
        "1. Evaluate the policy by solving the linear system\n",
        "2. Evaluate the policy through recursion"
      ]
    },
    {
      "cell_type": "code",
      "metadata": {
        "id": "1T0QX3tA2RRU",
        "colab_type": "code",
        "outputId": "39ac5b63-5bee-4e3a-9419-577e01f44f21",
        "colab": {
          "base_uri": "https://localhost:8080/",
          "height": 276
        }
      },
      "source": [
        "# Policy evaluation (exact)\n",
        "\n",
        "# Retrieve the environment MDP\n",
        "P = env.P\n",
        "R = env.R\n",
        "gamma = env.gamma\n",
        "\n",
        "\n",
        "# Policy to evaluate\n",
        "# State A: Search\n",
        "# State B: Wait\n",
        "dpi = np.array([1, 0])\n",
        "pi = sparsify_policy(dpi, Na=env.Na)\n",
        "print(\"## old pi:\")\n",
        "print(pi)\n",
        "print(env.render_policy(pi))\n",
        "\n",
        "# states = [0, 1]\n",
        "# actions = [0, 1, 2]\n",
        "# Ppi = np.zeros([2,2])\n",
        "# for s in states:\n",
        "#   for s_next in states:\n",
        "#     Ppi[s, s_next] = np.sum(pi[s] * P[s, :, s_next]) \n",
        "\n",
        "# Compute the dynamics given the policy\n",
        "Ppi = np.sum(P * np.expand_dims(pi, axis=-1), axis=1)\n",
        "Rpi = np.sum(R * pi, axis=1) #Note, we assume that R(s,a) does not depend of the next state\n",
        "\n",
        "# Evaluate the policy\n",
        "Vpi = np.linalg.inv( np.identity(env.Ns) - gamma*Ppi).dot(Rpi)\n",
        "print(\"## Vpi: \")\n",
        "print(Vpi)\n",
        "\n",
        "\n",
        "# # Compute the Q values\n",
        "Qpi = R + gamma * P.dot(Vpi)\n",
        "\n",
        "# print(\"## Qpi:\")\n",
        "print(\"## Qpi: \")\n",
        "print(Qpi)\n",
        "\n",
        "\n",
        "# # What is the next policy if we perform one step of policy improvment ?\n",
        "dpi_new = Qpi.argmax(axis=1)\n",
        "\n",
        "# print(\"## new pi:\")\n",
        "print(\"## pi: \")\n",
        "print(sparsify_policy(dpi_new, Na=env.Na))\n",
        "print(env.render_policy(dpi_new))"
      ],
      "execution_count": 0,
      "outputs": [
        {
          "output_type": "stream",
          "text": [
            "## old pi:\n",
            "[[0. 1. 0.]\n",
            " [1. 0. 0.]]\n",
            "In state A perform SEARCH\n",
            "In state B perform WAIT\n",
            "## Vpi: \n",
            "[1.6 0. ]\n",
            "## Qpi: \n",
            "[[ 0.8  1.6  0.3]\n",
            " [ 0.  -0.2  0.8]]\n",
            "## pi: \n",
            "[[0. 1. 0.]\n",
            " [0. 0. 1.]]\n",
            "In state A perform SEARCH\n",
            "In state B perform RECHARGE\n"
          ],
          "name": "stdout"
        }
      ]
    },
    {
      "cell_type": "code",
      "metadata": {
        "id": "x6Aue8I-bMbj",
        "colab_type": "code",
        "outputId": "bb202a71-bc5b-49bb-80f1-d5c91d567862",
        "colab": {
          "base_uri": "https://localhost:8080/",
          "height": 52
        }
      },
      "source": [
        "states = [0, 1]\n",
        "actions = [0, 1, 2]\n",
        "Ppi = np.zeros([2,2])\n",
        "for s in states:\n",
        "  for s_next in states:\n",
        "    Ppi[s, s_next] = np.sum(pi[s] * P[s, :, s_next])\n",
        "Ppi "
      ],
      "execution_count": 0,
      "outputs": [
        {
          "output_type": "execute_result",
          "data": {
            "text/plain": [
              "array([[0.75, 0.25],\n",
              "       [0.  , 1.  ]])"
            ]
          },
          "metadata": {
            "tags": []
          },
          "execution_count": 44
        }
      ]
    },
    {
      "cell_type": "code",
      "metadata": {
        "id": "NZb0Piis2YX4",
        "colab_type": "code",
        "outputId": "f32ba264-25ed-4ea7-ede3-6c82becdcd8f",
        "colab": {
          "base_uri": "https://localhost:8080/",
          "height": 415
        }
      },
      "source": [
        "# Policy evaluation (recursive)\n",
        "\n",
        "# Retrieve the environment MDP\n",
        "P = env.P\n",
        "R = env.R\n",
        "gamma = env.gamma\n",
        "\n",
        "# Policy to evaluate\n",
        "dpi = np.array([1, 0])\n",
        "pi = sparsify_policy(dpi, Na=env.Na)\n",
        "\n",
        "# Compute the dynamics given the policy\n",
        "Ppi = np.sum(P * np.expand_dims(pi, axis=-1), axis=1)\n",
        "Rpi = np.sum(R * pi, axis=1) \n",
        "\n",
        "# Stopping criterion -> maximum number of steps\n",
        "epsilon = 1e-3\n",
        "r_max = np.max(R)\n",
        "max_k = int(np.log(r_max/epsilon)/np.log(1/gamma))+1\n",
        "\n",
        "v = np.array([-1, 1])\n",
        "print(\"0:\", v)\n",
        "for k in range(max_k):\n",
        "  v = Rpi + gamma*Ppi.dot(v)\n",
        "  print(\"{}:\".format(k), v)\n",
        "\n",
        "print()\n",
        "\n",
        "# Stopping criterion -> compute the infinite norm\n",
        "v_new = np.array([-1, 1])\n",
        "v_old = np.array([2*epsilon, 0])\n",
        "k = 1\n",
        "print(\"0:\", v_new)\n",
        "while np.absolute(v_new-v_old).max() > epsilon:\n",
        "  v_old = v_new\n",
        "  v_new = Rpi + gamma*Ppi.dot(v_new)\n",
        "  print(\"{}:\".format(k), v_new)\n",
        "  k += 1\n",
        "\n"
      ],
      "execution_count": 0,
      "outputs": [
        {
          "output_type": "stream",
          "text": [
            "0: [-1  1]\n",
            "0: [0.75 0.5 ]\n",
            "1: [1.34375 0.25   ]\n",
            "2: [1.53515625 0.125     ]\n",
            "3: [1.59130859 0.0625    ]\n",
            "4: [1.60455322 0.03125   ]\n",
            "5: [1.60561371 0.015625  ]\n",
            "6: [1.60405827 0.0078125 ]\n",
            "7: [1.60249841 0.00390625]\n",
            "8: [1.60142519 0.00195312]\n",
            "9: [1.60077859e+00 9.76562500e-04]\n",
            "\n",
            "0: [-1  1]\n",
            "1: [0.75 0.5 ]\n",
            "2: [1.34375 0.25   ]\n",
            "3: [1.53515625 0.125     ]\n",
            "4: [1.59130859 0.0625    ]\n",
            "5: [1.60455322 0.03125   ]\n",
            "6: [1.60561371 0.015625  ]\n",
            "7: [1.60405827 0.0078125 ]\n",
            "8: [1.60249841 0.00390625]\n",
            "9: [1.60142519 0.00195312]\n",
            "10: [1.60077859e+00 9.76562500e-04]\n"
          ],
          "name": "stdout"
        }
      ]
    },
    {
      "cell_type": "markdown",
      "metadata": {
        "id": "u0nl8OfLwpdC",
        "colab_type": "text"
      },
      "source": [
        "## New Environment!!!"
      ]
    },
    {
      "cell_type": "code",
      "metadata": {
        "id": "qDjMyANRs8Z6",
        "colab_type": "code",
        "colab": {}
      },
      "source": [
        "# New Maze environment\n",
        "# s: start\n",
        "# g: goal\n",
        "# x: negative reward state\n",
        "\n",
        "grid1 = [\n",
        "    ['', '', '', 'g'],\n",
        "    ['', 'x', '', ''],\n",
        "    ['s', '', '', '']\n",
        "]\n",
        "grid1_MAP = [\n",
        "    \"+-------+\",\n",
        "    \"| : : :G|\",\n",
        "    \"| :x: : |\",\n",
        "    \"|S: : : |\",\n",
        "    \"+-------+\",\n",
        "]\n",
        "\n",
        "env = GridWorldWithPits(grid=grid1, txt_map=grid1_MAP, uniform_trans_proba=0)"
      ],
      "execution_count": 0,
      "outputs": []
    },
    {
      "cell_type": "code",
      "metadata": {
        "id": "GRUnx8EstjFY",
        "colab_type": "code",
        "outputId": "1180b3d7-8f30-42b3-ee36-db75045dd73a",
        "colab": {
          "base_uri": "https://localhost:8080/",
          "height": 328
        }
      },
      "source": [
        "# Useful attributes\n",
        "print(\"Set of states:\", env.states)\n",
        "print(\"Set of actions:\", env.actions)\n",
        "print(\"Number of states: \", env.Ns)\n",
        "print(\"Number of actions: \", env.Na)\n",
        "print(\"P has shape: \", env.P.shape)  # P[s'|s,a] = P[s, a, s'] = env.P[s, a, s']\n",
        "print(\"R has shape: \", env.R.shape)  \n",
        "print(\"discount factor: \", env.gamma)\n",
        "print(\"\")\n",
        "\n",
        "# Usefult methods\n",
        "state = env.reset() # get initial state\n",
        "print(\"initial state: \", state)\n",
        "print(\"reward at (s=0, a=1,s'=1): \", env.reward_func(0,1,1))\n",
        "print(\"\")\n",
        "\n",
        "# A random policy\n",
        "dpi = np.random.randint(env.Na, size = (env.Ns,))\n",
        "print(\"random policy = \", dpi)\n",
        "\n",
        "# Interacting with the environment\n",
        "print(\"(s, a, s', r):\")\n",
        "for time in range(4):\n",
        "    action = dpi[state]\n",
        "    next_state, reward, done, info = env.step(action)\n",
        "    print(state, action, next_state, reward) \n",
        "    if done:\n",
        "        break\n",
        "    state = next_state\n",
        "print(\"\")"
      ],
      "execution_count": 0,
      "outputs": [
        {
          "output_type": "stream",
          "text": [
            "Set of states: range(0, 12)\n",
            "Set of actions: [0, 1, 2, 3]\n",
            "Number of states:  12\n",
            "Number of actions:  4\n",
            "P has shape:  (12, 4, 12)\n",
            "R has shape:  (12, 4)\n",
            "discount factor:  0.99\n",
            "\n",
            "initial state:  8\n",
            "reward at (s=0, a=1,s'=1):  -2.0\n",
            "\n",
            "random policy =  [2 2 0 3 0 2 0 0 2 2 2 1]\n",
            "(s, a, s', r):\n",
            "8 2 8 -2.0\n",
            "8 2 8 -2.0\n",
            "8 2 8 -2.0\n",
            "8 2 8 -2.0\n",
            "\n"
          ],
          "name": "stdout"
        }
      ]
    },
    {
      "cell_type": "code",
      "metadata": {
        "id": "gsXJD1qF74Iy",
        "colab_type": "code",
        "outputId": "4f8a763e-f398-4ae5-b712-5ce98de4c7f6",
        "colab": {
          "base_uri": "https://localhost:8080/",
          "height": 725
        }
      },
      "source": [
        "dpi = np.random.randint(env.Na, size = (env.Ns,))\n",
        "env.render_policy(dpi)\n",
        "\n",
        "state = env.reset()\n",
        "env.render()\n",
        "for i in range(5):\n",
        "    action = dpi[state]\n",
        "    state, reward, done, _ = env.step(action)\n",
        "    env.render()\n",
        "    if done:\n",
        "      break"
      ],
      "execution_count": 0,
      "outputs": [
        {
          "output_type": "stream",
          "text": [
            "+-------+\n",
            "|^:v:>:^|\n",
            "|<:v:v:^|\n",
            "|>:v:>:>|\n",
            "+-------+\n",
            "+-------+\n",
            "| : : :G|\n",
            "| :x: : |\n",
            "|\u001b[43mS\u001b[0m: : : |\n",
            "+-------+\n",
            "\n",
            "+-------+\n",
            "| : : :G|\n",
            "| :x: : |\n",
            "|\u001b[43mS\u001b[0m: : : |\n",
            "+-------+\n",
            "  (right)\n",
            "+-------+\n",
            "| : : :G|\n",
            "| :x: : |\n",
            "|S:\u001b[43m_\u001b[0m: : |\n",
            "+-------+\n",
            "  (right)\n",
            "+-------+\n",
            "| : : :G|\n",
            "| :x: : |\n",
            "|S:\u001b[43m_\u001b[0m: : |\n",
            "+-------+\n",
            "  (down)\n",
            "+-------+\n",
            "| : : :G|\n",
            "| :\u001b[41mx\u001b[0m: : |\n",
            "|S: : : |\n",
            "+-------+\n",
            "  (down)\n",
            "+-------+\n",
            "| : : :G|\n",
            "| :x: : |\n",
            "|S:\u001b[43m_\u001b[0m: : |\n",
            "+-------+\n",
            "  (down)\n"
          ],
          "name": "stdout"
        }
      ]
    },
    {
      "cell_type": "markdown",
      "metadata": {
        "id": "2ugaKsHsOX5G",
        "colab_type": "text"
      },
      "source": [
        "## Exercice: Value Iteration\n",
        "1. Write a function applying the optimal Bellman operator on a provided Q function: $V_1 = TV_0, \\; V_0\\in \\mathbb{R}^{S}$\n",
        "2. Write a function implementing Value Iteration (VI) with $\\infty$-norm stopping condition (reuse function implemented in 1)\n",
        "3. Evaluate the convergence of your estimate, i.e., plot the value $\\|V_n - V^\\star\\|_{\\infty}$"
      ]
    },
    {
      "cell_type": "code",
      "metadata": {
        "id": "AvlitQzHD7Fc",
        "colab_type": "code",
        "colab": {}
      },
      "source": [
        "# useful function\n",
        "def plot_infnorm(lst, star, name=\"V\"):\n",
        "  \n",
        "  lst = np.array(lst)\n",
        "  star = np.array(star)\n",
        "\n",
        "  # Compute inf norm\n",
        "  diff = np.absolute(lst - star).max(axis=1)\n",
        "  plt.figure()\n",
        "  plt.plot(diff)\n",
        "  plt.xlabel('Iteration')\n",
        "  plt.ylabel('Error')\n",
        "  plt.title(\"||{} - {}*||_inf\".format(name, name))\n",
        "\n",
        "def plot_norm2(lst, star, name=\"V\"):\n",
        "  \n",
        "  lst = np.array(lst)\n",
        "  star = np.array(star)\n",
        "\n",
        "  # Compute l2 norm\n",
        "  diff = np.linalg.norm(lst - star, ord=2)\n",
        "  plt.figure()\n",
        "  plt.plot(diff)\n",
        "  plt.xlabel('Iteration')\n",
        "  plt.ylabel('Error')\n",
        "  plt.title(\"||{} - {}*||_inf\".format(name, name))"
      ],
      "execution_count": 0,
      "outputs": []
    },
    {
      "cell_type": "code",
      "metadata": {
        "id": "FKkDqSyBOX5G",
        "colab_type": "code",
        "outputId": "91862a39-bfbf-4630-ccf6-9474271112d7",
        "colab": {
          "base_uri": "https://localhost:8080/",
          "height": 780
        }
      },
      "source": [
        "# Compute Value Iteration\n",
        "\n",
        "# Retrieve the environment MDP\n",
        "P = env.P\n",
        "R = env.R\n",
        "gamma = env.gamma\n",
        "epsilon = 5e-2\n",
        "\n",
        "# Prepare v, and storage\n",
        "v = np.zeros(env.Ns)\n",
        "v_all = []\n",
        "pi_all = []\n",
        "\n",
        "# iterate over the value\n",
        "while True:\n",
        "  \n",
        "  # Compute v_k\n",
        "  v, v_old = np.max(R + gamma * P.dot(v), axis=1), v\n",
        "  v_all.append(v)\n",
        "\n",
        "  # Esimate Intermediate policy\n",
        "  q = R + gamma * P.dot(v)\n",
        "  dpi = q.argmax(axis=1)\n",
        "\n",
        "  pi_all.append(dpi)\n",
        "\n",
        "  # stopping criterion \n",
        "  if np.absolute(v-v_old).max() < epsilon: \n",
        "    break\n",
        "\n",
        "# Plot optimal policy\n",
        "env.render_policy(dpi)\n",
        "\n",
        "# You need to evaluate V* here from your optimal policy\n",
        "# You have no guarantee that the last v-value is converge to the actual Vpi\n",
        "pi = sparsify_policy(dpi, Na=env.Na)\n",
        "Ppi = np.sum(P * np.expand_dims(pi, axis=-1), axis=1)\n",
        "Rpi = np.sum(R * pi, axis=1)\n",
        "\n",
        "v_star = np.linalg.inv( np.identity(env.Ns) - gamma*Ppi).dot(Rpi)\n",
        "print(\"v (last):\", v_all[-1])\n",
        "print(\"v (star):\", v_star)\n",
        "\n",
        "# The difference is not exactly epsilon. We here we are comparing V*-V while the algorithm we are comparing V_new - V_old\n",
        "print(\"|v - v_star|_inf: \", np.absolute(v_all[-1]-v_star).max())\n",
        "\n",
        "# The value function converge towards v* iteration after iteration\n",
        "plot_infnorm(v_all, v_star, name=\"V\")\n",
        "\n",
        "# If we estimate intermediate policy, we observe that we good policy is obtained earlier in the process.\n",
        "# However, the value function have not yet converge, so we cannot say for sure at iteration X that is the optimal policy\n",
        "plot_infnorm(pi_all, dpi, name=\"Pi\")\n"
      ],
      "execution_count": 0,
      "outputs": [
        {
          "output_type": "stream",
          "text": [
            "+-------+\n",
            "|>:>:>:>|\n",
            "|^:>:>:^|\n",
            "|>:>:>:^|\n",
            "+-------+\n",
            "v (last): [-12.51900447 -10.53807754  -8.18223708  -6.09482131 -14.74986553\n",
            " -30.46943697 -10.48755342  -8.17632202 -16.28042498 -14.3886304\n",
            " -12.14153371 -10.18561434]\n",
            "v (star): [-16.14241424 -14.14833522 -11.78735625  -9.70420747 -18.37607865\n",
            " -34.09268495 -14.09758906 -11.78144235 -19.90323987 -18.01512775\n",
            " -15.76496054 -13.79583079]\n",
            "|v - v_star|_inf:  3.626497356300213\n"
          ],
          "name": "stdout"
        },
        {
          "output_type": "display_data",
          "data": {
            "image/png": "[encoded data removed]",
            "text/plain": [
              "<Figure size 432x288 with 1 Axes>"
            ]
          },
          "metadata": {
            "tags": []
          }
        },
        {
          "output_type": "display_data",
          "data": {
            "image/png": "[encoded data removed]",
            "text/plain": [
              "<Figure size 432x288 with 1 Axes>"
            ]
          },
          "metadata": {
            "tags": []
          }
        }
      ]
    },
    {
      "cell_type": "code",
      "metadata": {
        "id": "-ilB3F71-XBB",
        "colab_type": "code",
        "outputId": "2c779e14-46bc-4d3f-fe14-36987c4fa730",
        "colab": {
          "base_uri": "https://localhost:8080/",
          "height": 588
        }
      },
      "source": [
        "# Compute Value Iteration\n",
        "\n",
        "# Retrieve the environment MDP\n",
        "P = env.P\n",
        "R = env.R\n",
        "gamma = env.gamma\n",
        "epsilon = 1e-3\n",
        "\n",
        "# Prepare v, and storage\n",
        "v = np.zeros(env.Ns)\n",
        "v_all = []\n",
        "\n",
        "while True:\n",
        "\n",
        "  v_old = v\n",
        "  v = np.max(R + gamma*P.dot(v), axis=1)\n",
        "\n",
        "  if np.absolute((v-v_old)).max() < epsilon:\n",
        "    break  # I got V* :-) \n",
        "\n",
        "  v_all.append(v)\n",
        "\n",
        "print(v) # this is V*\n",
        "Q = R + gamma*P.dot(v)\n",
        "dpi = Q.argmax(axis=1)\n",
        "\n",
        "env.render_policy(dpi)\n",
        "\n",
        "\n",
        "pi = sparsify_policy(dpi, Na=env.Na)\n",
        "Ppi = np.sum(P * np.expand_dims(pi, axis=-1), axis=1)\n",
        "Rpi = np.sum(R * pi, axis=1)\n",
        "\n",
        "v_star = np.linalg.inv( np.identity(env.Ns) - gamma*Ppi).dot(Rpi)\n",
        "print(\"v (last):\", v_all[-1])\n",
        "print(\"v (star):\", v_star)\n",
        "print()\n",
        "print(\"epsilon\", epsilon)\n",
        "print(\"v (diff max):\", np.max(np.absolute(v_star-v_all[-1])))\n",
        "\n",
        "plot_infnorm(v_all, v_star, name=\"V\")\n"
      ],
      "execution_count": 0,
      "outputs": [
        {
          "output_type": "stream",
          "text": [
            "[-16.04439862 -14.0503196  -11.68934063  -9.60619184 -18.27806303\n",
            " -33.99466932 -13.99957344 -11.68342673 -19.80522424 -17.91711212\n",
            " -15.66694491 -13.69781517]\n",
            "+-------+\n",
            "|>:>:>:>|\n",
            "|^:>:>:^|\n",
            "|>:>:>:^|\n",
            "+-------+\n",
            "v (last): [-16.04340856 -14.04932954 -11.68835057  -9.60520179 -18.27707297\n",
            " -33.99367926 -13.99858338 -11.68243667 -19.80423418 -17.91612207\n",
            " -15.66595485 -13.69682511]\n",
            "v (star): [-16.14241424 -14.14833522 -11.78735625  -9.70420747 -18.37607865\n",
            " -34.09268495 -14.09758906 -11.78144235 -19.90323987 -18.01512775\n",
            " -15.76496054 -13.79583079]\n",
            "\n",
            "epsilon 0.001\n",
            "v (diff max): 0.09900568774535401\n"
          ],
          "name": "stdout"
        },
        {
          "output_type": "display_data",
          "data": {
            "image/png": "[encoded data removed]",
            "text/plain": [
              "<Figure size 432x288 with 1 Axes>"
            ]
          },
          "metadata": {
            "tags": []
          }
        }
      ]
    },
    {
      "cell_type": "markdown",
      "metadata": {
        "id": "TDT4iyJnAPIE",
        "colab_type": "text"
      },
      "source": [
        "## Exercice: Policy Iteration (Homework)"
      ]
    },
    {
      "cell_type": "markdown",
      "metadata": {
        "id": "535d6GtSKCSy",
        "colab_type": "text"
      },
      "source": [
        "# Remarks !!! \n",
        "\n",
        "Maximum score is 3\n",
        "\n",
        "The mark is computed as follow:\n",
        "- No code: -3pts\n",
        "- The code is not running: -2.5pts\n",
        "- Rpi /Ppi are not correctly computed/used:\t-1.5pts\n",
        "- The stopping condition is wrong: -1pt\n",
        "\n",
        "The common mistakes are the following:\n",
        "\n",
        "\\\\\n",
        "**Mistake one:** *Wrong stopping criterion*\n",
        "\n",
        "In *policy iteration*, the stoping criterion is $\\pi_{old}(s) = \\pi_{new}(s) \\;\\forall s\\in S$. In other words, *the policy is not changing anymore*. There is no policy improvement step. The good implementation is `np.equal(pi_old, pi_new) `\n",
        "\n",
        "In *value-iteraton*, the stopping criterion is $\\|V_n - V^\\star\\|_{\\infty} < \\epsilon$. In other words, the *value function is not changing anymore* within an $\\epsilon$.\n",
        "\n",
        "In many cases, people confuses the two stopping criterions. The code checks whether $\\|\\pi_{old} - \\pi_{new}\\|_{\\infty} < \\epsilon$. Thus, the implementation `np.absolute((pi_new-pi_old)).max() < epsilon` is wrong. For instance, if i set epsilon to 2 (why not!), then you can see that the stopping criterion does not make sense anymore.\n",
        "\n",
        "\\\\\n",
        "**Mistake two:** *Mixture between Value-iteration and Policy iteration*\n",
        "\n",
        "Some people implemented the following code:\n",
        "\n",
        "```\n",
        "  v = (R + gamma * np.dot(P, v)).max(axis=1)  # (1)\n",
        "  q = R + gamma * np.dot(P, v)                # (2)\n",
        "  dpi = np.argmax(axis=1)                     # (3)\n",
        "```\n",
        "\n",
        "(1) is not an policy evaluation step. It is a value-improvment step that is used in value-iteration. Therefore, there is no guarantee that q would change on the next iteration. You sometimes need several value-improvment step to lead to change of policy. \n",
        "As a reminder, \n",
        " - policy iteration: evaluate the policy, then improve the policy\n",
        " - vale-iteration: keep improving the value-function. Once it converge, compute the optimal policy\n",
        "\n",
        "It does not make sense to perform both value-improvment and policy improvment together. (As the value function is in a stale state)\n"
      ]
    },
    {
      "cell_type": "code",
      "metadata": {
        "id": "fpBCGnqNE7l1",
        "colab_type": "code",
        "outputId": "623dce73-9665-43b8-e2ef-ebf2d1698186",
        "colab": {
          "base_uri": "https://localhost:8080/",
          "height": 1000
        }
      },
      "source": [
        "# Retrieve the environment MDP\n",
        "P = env.P\n",
        "R = env.R\n",
        "gamma = env.gamma\n",
        "epsilon = 5e-2\n",
        "\n",
        "#Initialize policy\n",
        "dpi = np.zeros(shape=(env.Ns,), dtype=np.int32) + 2\n",
        "print(env.render_policy(dpi))\n",
        "\n",
        "v_all = []\n",
        "pi_all = []\n",
        "\n",
        "while True:\n",
        "\n",
        "  # Sparsify policy to perform matrix operation\n",
        "  pi = sparsify_policy(dpi, Na=env.Na)\n",
        "\n",
        "  # Compute new transition/reward conditioned on the policy\n",
        "  Ppi = np.sum(P * np.expand_dims(pi, axis=-1), axis=1)\n",
        "  Rpi = np.sum(R * pi, axis=1) \n",
        "\n",
        "  # Evaluate value function\n",
        "  v = np.linalg.inv( np.identity(env.Ns) - gamma*Ppi).dot(Rpi)\n",
        "\n",
        "  # Evaluate Q-function\n",
        "  q = R + gamma * P.dot(v)\n",
        "\n",
        "  # Update the policy\n",
        "  dpi, old_pi = q.argmax(axis=1), pi\n",
        "\n",
        "  # Storage\n",
        "  v_all.append(v)\n",
        "  pi_all.append(dpi)\n",
        "\n",
        "  pi = sparsify_policy(dpi, Na=env.Na)\n",
        "\n",
        "  # Check if the two policies are equal\n",
        "  if np.array_equal(pi, old_pi):\n",
        "      break\n",
        "\n",
        "  print(env.render_policy(dpi))\n",
        "\n",
        "print(\"v (star):\", v.sum())\n",
        "plot_infnorm(v_all, v, name=\"V\")\n",
        "plot_infnorm(pi_all, dpi, name=\"Pi\")"
      ],
      "execution_count": 0,
      "outputs": [
        {
          "output_type": "stream",
          "text": [
            "+-------+\n",
            "|<:<:<:<|\n",
            "|<:<:<:<|\n",
            "|<:<:<:<|\n",
            "+-------+\n",
            "None\n",
            "+-------+\n",
            "|<:<:>:>|\n",
            "|^:^:^:^|\n",
            "|v:<:<:<|\n",
            "+-------+\n",
            "None\n",
            "+-------+\n",
            "|<:>:>:>|\n",
            "|^:>:>:^|\n",
            "|v:<:^:^|\n",
            "+-------+\n",
            "None\n",
            "+-------+\n",
            "|>:>:>:>|\n",
            "|^:>:>:^|\n",
            "|^:>:>:^|\n",
            "+-------+\n",
            "None\n",
            "+-------+\n",
            "|>:>:>:>|\n",
            "|^:>:>:^|\n",
            "|>:>:>:^|\n",
            "+-------+\n",
            "None\n",
            "v (star): -197.60926714941917\n"
          ],
          "name": "stdout"
        },
        {
          "output_type": "display_data",
          "data": {
            "image/png": "[encoded data removed]",
            "text/plain": [
              "<Figure size 432x288 with 1 Axes>"
            ]
          },
          "metadata": {
            "tags": []
          }
        },
        {
          "output_type": "display_data",
          "data": {
            "image/png": "[encoded data removed]",
            "text/plain": [
              "<Figure size 432x288 with 1 Axes>"
            ]
          },
          "metadata": {
            "tags": []
          }
        }
      ]
    },
    {
      "cell_type": "markdown",
      "metadata": {
        "id": "WHrlauOwOX5L",
        "colab_type": "text"
      },
      "source": [
        "## Exercice: Q learning\n",
        "Q learning is a model-free algorithm for estimating the optimal Q-function online.\n",
        "It is an off-policy algorithm since the samples are collected with a policy that is (potentially) not the one associated to the estimated Q-function.\n",
        "\n",
        "1. Implement Q learning with $\\epsilon$-greedy exploration.\n",
        "  - Plot the error in Q-functions over iterations\n",
        "  - Plot the cumulative sum of rewards"
      ]
    },
    {
      "cell_type": "code",
      "metadata": {
        "id": "QCxJruBNOX5M",
        "colab_type": "code",
        "colab": {}
      },
      "source": [
        "# ---------------------------\n",
        "# Q-Learning\n",
        "# ---------------------------\n",
        "class QLearning:\n",
        "    \"\"\"\n",
        "    Q learning with epsilon-greedy exploration\n",
        "    \"\"\"\n",
        "    def __init__(self, env, gamma, learning_rate, epsilon, min_epsilon):\n",
        "        self.env = env\n",
        "        self.gamma = gamma\n",
        "        self.learning_rate = learning_rate\n",
        "        self.epsilon = epsilon\n",
        "        self.min_epsilon = min_epsilon\n",
        "        self.Q = np.zeros((env.Ns, env.Na))\n",
        "        self.Nsa = np.ones((env.Ns, env.Na))\n",
        "    \n",
        "    def sample_action(self, state, greedy=False):\n",
        "        epsilon = min(\n",
        "            self.epsilon / math.sqrt(self.Nsa[state].min()),\n",
        "            self.min_epsilon)\n",
        "        \n",
        "        # explore\n",
        "        if not greedy and np.random.uniform(0, 1) < epsilon:\n",
        "          return np.random.choice(self.env.actions)\n",
        "\n",
        "        # exploit\n",
        "        else:\n",
        "          action = self.Q[state, :].argmax()\n",
        "          return self.env.actions[action]\n",
        "        \n",
        "    \n",
        "    def update(self, state, action, next_state, reward, done):\n",
        "        alpha = self.learning_rate / math.sqrt(self.Nsa[state, action])\n",
        "        \n",
        "        if not done:\n",
        "          max_q = self.Q[next_state, :].max()\n",
        "        else:\n",
        "          max_q = 0.  # We do not bootstrap further\n",
        "        \n",
        "        q = self.Q[state, action]\n",
        "        increment = (reward + self.gamma*max_q) - q\n",
        "\n",
        "        # Update\n",
        "        self.Q[state, action] = self.Q[state, action] + alpha*increment\n",
        "        self.Nsa[state, action] += 1\n"
      ],
      "execution_count": 0,
      "outputs": []
    },
    {
      "cell_type": "code",
      "metadata": {
        "id": "jsmojgubLVL9",
        "colab_type": "code",
        "outputId": "b8252392-4398-4ddb-90d2-107e54f1761e",
        "colab": {
          "base_uri": "https://localhost:8080/",
          "height": 121
        }
      },
      "source": [
        "q_learning = QLearning(env, gamma=env.gamma, learning_rate=1, epsilon=0.6, min_epsilon=0.1)\n",
        "\n",
        "# Define storage and variable\n",
        "q_all = []\n",
        "r_all = []\n",
        "pi_all = []\n",
        "max_steps = int(5e4)\n",
        "\n",
        "\n",
        "# main algorithmic loop\n",
        "state = env.reset()\n",
        "for t in range(max_steps):\n",
        "    \n",
        "  # Sample the action\n",
        "  action = q_learning.sample_action(state, greedy=False)\n",
        "  \n",
        "  # Sample the environment\n",
        "  next_state, reward, done, _ = env.step(action)\n",
        "  \n",
        "  # Update q-function\n",
        "  q_learning.update(state=state, action=action, next_state=next_state, reward=reward, done=done)\n",
        "\n",
        "  # Store information \n",
        "  r_all.append(reward)\n",
        "  q_all.append(q_learning.Q)\n",
        "  pi_all.append(q_learning.Q.argmax(axis=1))\n",
        "  \n",
        "  state = next_state\n",
        "  if done:\n",
        "    state = env.reset()\n",
        "\n",
        "dpi = q_learning.Q.argmax(axis=1)\n",
        "print(env.render_policy(dpi))\n"
      ],
      "execution_count": 0,
      "outputs": [
        {
          "output_type": "stream",
          "text": [
            "+-------+\n",
            "|>:>:>:>|\n",
            "|^:^:^:^|\n",
            "|>:>:^:^|\n",
            "+-------+\n",
            "None\n"
          ],
          "name": "stdout"
        }
      ]
    },
    {
      "cell_type": "code",
      "metadata": {
        "id": "ysm4Cq_pxj5T",
        "colab_type": "code",
        "outputId": "f776120b-a7a8-4211-ecc8-2ca937d59ab0",
        "colab": {
          "base_uri": "https://localhost:8080/",
          "height": 639
        }
      },
      "source": [
        "state = env.reset()\n",
        "env.render()\n",
        "for i in range(5):\n",
        "    action = q_learning.sample_action(state, greedy=True)\n",
        "    next_state, reward, done, _ = env.step(action)\n",
        "    env.render()\n",
        "    state = next_state"
      ],
      "execution_count": 0,
      "outputs": [
        {
          "output_type": "stream",
          "text": [
            "+-------+\n",
            "| : : :G|\n",
            "| :x: : |\n",
            "|\u001b[43mS\u001b[0m: : : |\n",
            "+-------+\n",
            "\n",
            "+-------+\n",
            "| : : :G|\n",
            "| :x: : |\n",
            "|S:\u001b[43m_\u001b[0m: : |\n",
            "+-------+\n",
            "  (right)\n",
            "+-------+\n",
            "| : : :G|\n",
            "| :x: : |\n",
            "|S: :\u001b[43m_\u001b[0m: |\n",
            "+-------+\n",
            "  (right)\n",
            "+-------+\n",
            "| : : :G|\n",
            "| :x:\u001b[43m_\u001b[0m: |\n",
            "|S: : : |\n",
            "+-------+\n",
            "  (up)\n",
            "+-------+\n",
            "| : :\u001b[43m_\u001b[0m:G|\n",
            "| :x: : |\n",
            "|S: : : |\n",
            "+-------+\n",
            "  (up)\n",
            "+-------+\n",
            "| : : :\u001b[42mG\u001b[0m|\n",
            "| :x: : |\n",
            "|S: : : |\n",
            "+-------+\n",
            "  (right)\n"
          ],
          "name": "stdout"
        }
      ]
    },
    {
      "cell_type": "code",
      "metadata": {
        "id": "-QyNzQpLIpAv",
        "colab_type": "code",
        "outputId": "73140d8f-66d6-4659-ed4e-308559646a07",
        "colab": {
          "base_uri": "https://localhost:8080/",
          "height": 225
        }
      },
      "source": [
        "print(q_learning.Q)"
      ],
      "execution_count": 0,
      "outputs": [
        {
          "output_type": "stream",
          "text": [
            "[[  3.37976072  -1.52195963   0.6482838    0.8482679 ]\n",
            " [  5.26220058 -16.7485177    1.05234951   3.2213018 ]\n",
            " [  7.73996437   3.2276452    3.3373888    5.67730329]\n",
            " [ 10.          10.          10.          10.        ]\n",
            " [-17.08515129  -3.7569903   -1.91104508   1.21388223]\n",
            " [-15.71352719 -19.39461105 -19.14775513 -14.6511964 ]\n",
            " [  4.9723986    1.14744533 -16.07514131   5.45855422]\n",
            " [  5.53082119   3.47210147   3.40399001   7.74723588]\n",
            " [ -1.34830574  -3.39063076  -3.45977983  -1.53869285]\n",
            " [  0.89394404  -1.38730173  -3.13927583 -16.42465495]\n",
            " [  2.93628775   0.90920192  -1.32298734   3.22961122]\n",
            " [  2.03263327   0.73823383   1.13503094   5.43928314]]\n"
          ],
          "name": "stdout"
        }
      ]
    },
    {
      "cell_type": "code",
      "metadata": {
        "id": "Bi2j8vI4It8h",
        "colab_type": "code",
        "outputId": "ce8b8d3a-587d-41db-b4a1-ee7d391e452b",
        "colab": {
          "base_uri": "https://localhost:8080/",
          "height": 295
        }
      },
      "source": [
        "plot_infnorm(pi_all, pi_all[-1], name=\"Pi\")"
      ],
      "execution_count": 0,
      "outputs": [
        {
          "output_type": "display_data",
          "data": {
            "image/png": "[encoded data removed]",
            "text/plain": [
              "<Figure size 432x288 with 1 Axes>"
            ]
          },
          "metadata": {
            "tags": []
          }
        }
      ]
    },
    {
      "cell_type": "code",
      "metadata": {
        "id": "xViQ6kpzJfw9",
        "colab_type": "code",
        "outputId": "097c4250-0a7b-41ae-c293-86e95abf3125",
        "colab": {
          "base_uri": "https://localhost:8080/",
          "height": 295
        }
      },
      "source": [
        "pi = sparsify_policy(pi_all[-1], Na=env.Na)\n",
        "Ppi = np.sum(env.P * np.expand_dims(pi, axis=-1), axis=1)\n",
        "Rpi = np.sum(env.R * pi, axis=1)\n",
        "\n",
        "v_star = np.linalg.inv( np.identity(env.Ns) - gamma*Ppi).dot(Rpi)\n",
        "\n",
        "v_all = []\n",
        "for dpi_prev, q_prev in zip(pi_all, q_all):\n",
        "  pi_prev = sparsify_policy(dpi_prev, Na=env.Na)\n",
        "  v_prev = np.sum(pi_prev*q_prev, axis=1)\n",
        "  v_all.append(v_prev)\n",
        "\n",
        "\n",
        "# You may notive that some states have a high errors (especially the one with the negative rewards)\n",
        "# Indeed, as there are less and less explored, the Q-values in \"bad\" states are not updated anymore as they are avoided by the agent.\n",
        "plot_infnorm(v_all, v_star, name=\"V\")\n"
      ],
      "execution_count": 0,
      "outputs": [
        {
          "output_type": "display_data",
          "data": {
            "image/png": "[encoded data removed]",
            "text/plain": [
              "<Figure size 432x288 with 1 Axes>"
            ]
          },
          "metadata": {
            "tags": []
          }
        }
      ]
    },
    {
      "cell_type": "markdown",
      "metadata": {
        "id": "59xsIjpIOX5P",
        "colab_type": "text"
      },
      "source": [
        "## Exercice: SARSA (Homework)\n",
        "SARSA is another control algorithm. While Qlearning is off-policy, SARSA is on-policy.\n",
        "\n",
        "1. Implement SARSA with softmax (Gibbs) exploration and test the convergence to $Q^\\star$\n",
        "2. Plot the value $\\|V_n - V^\\star\\|_{\\infty}$\n",
        "3. Plot the expected cumulative reward of the algorithms: $t \\mapsto \\sum_{i=1}^t r_i$"
      ]
    },
    {
      "cell_type": "markdown",
      "metadata": {
        "id": "hMp-EqrhSutq",
        "colab_type": "text"
      },
      "source": [
        "# Remarks !!! \n",
        "\n",
        "Maximum score is 4\n",
        "\n",
        "The mark is computed as follow:\n",
        "- No code or q-learning code : -4pts\n",
        "- The exploration strategy is wrong: -1.5pts\n",
        "- The q-update is wrong: -1.5pts\n",
        "- The q-update bootstrap next_state/next_action when `done=True`: -0.5pt\n",
        "- Epsilon (or temperature) is not decreasing over time: -0.5pt\n",
        "- The learning rate $\\alpha$ is not decreasing over time: -0.5pt\n",
        "- There is a greedy implementation of SARSA: -0.25pt\n",
        "- Epsilon and/or learning rate are linearly decreasing (too fast): -0.25pt\n",
        "\n",
        "Note: There were two (voluntary!) traps in the class interface: \n",
        " - the `done` flag have to be added\n",
        " - the `greedy` flag have to be removed\n",
        "\n",
        "Note that several people point it out :) Gj!\n",
        "\n",
        "\\\\\n",
        "\n",
        "\\\\\n",
        "The common mistakes are the following\n",
        "\n",
        "\\\\\n",
        "\n",
        "**Mistake one:** *Incorrect bootstrapping when in the last state*\n",
        "\n",
        "Imagine that you are in the last state, there is thus no next_state. As a result, you should not compute Q(next_state, next_action) in the TD error\n",
        "In practice, the environment return a dummy next_state and the `done` flag so you can cancel the bootstrap when needed. \n",
        "\n",
        "```\n",
        "    if not done:\n",
        "      next_q = self.Q[next_state, next_action]\n",
        "    else:\n",
        "      next_q = 0.  # We do not bootstrap further\n",
        "```\n",
        "\n",
        "\\\\\n",
        "\n",
        "**Mistake two:** *Incorrect sample_action function*\n",
        "\n",
        "In Sarsa, you have two policies: \n",
        " - The greedy-epsilon policy\n",
        " - The softmax policy\n",
        "\n",
        "As opposed to Q-learning, Sarsa follows the same policy as training/evaluation time. There is no epxloration policy vs. exploitation policy as in Q-learning!\n",
        "\n",
        "Thus, the flag `greedy` should be removed\n",
        "\n",
        "The greedy policy is implemented as follow:\n",
        "\n",
        "```\n",
        "if np.random.uniform(0, 1) < epsilon:\n",
        "  action = np.random.choice(self.env.actions)\n",
        "else:\n",
        "  action = self.Q[state, :].argmax()\n",
        "return action\n",
        "```\n",
        "\n",
        "The softmax policy is implemented as follow:\n",
        "\n",
        "```\n",
        "def softmax(self,x):\n",
        "  return np.exp(x) / np.sum(np.exp(x))\n",
        "\n",
        "policy = self.softmax(q/temperature)\n",
        "action = np.random.choice(self.env.actions, p=policy)\n",
        "```\n",
        "\n",
        "In both cases, it is very important to reduce epsilon (or temperature) to converge towards a determinist (optimal) policy. . Note that the exploration should not decreased too fast! A good spped/implementation is the following:\n",
        "\n",
        "```\n",
        "epsilon = self.epsilon / math.sqrt(self.Nsa[state].min())\n",
        "```\n",
        "\n",
        "\n",
        "\\\\\n",
        "**Mistake three:** *No decreasing learning rate*\n",
        "\n",
        "The learning rate must decrease during training to avoid oscillation while learning the q-function (cf slides). A good decreasing learning rate is:\n",
        "\n",
        "```\n",
        "alpha = self.learning_rate / math.sqrt(self.Nsa[state, action])\n",
        "```\n",
        "\n",
        "Linearly decreasing also works, but it is often a bit too strong in practice.\n",
        "\n",
        "\n",
        "\n",
        "## Final Note\n",
        "I also add another (more intuitive) implementation of sarsa below. \n"
      ]
    },
    {
      "cell_type": "code",
      "metadata": {
        "id": "gySnHtrsOX5Q",
        "colab_type": "code",
        "colab": {}
      },
      "source": [
        "# ---------------------------\n",
        "# SARSA\n",
        "# ---------------------------\n",
        "class SARSA:\n",
        "    \"\"\"\n",
        "    SARSA with deacreasing epsilon for exploration\n",
        "    \"\"\"\n",
        "    def __init__(self, env, gamma, learning_rate, epsilon):\n",
        "        self.env = env\n",
        "        self.gamma = gamma\n",
        "        self.learning_rate = learning_rate\n",
        "        self.epsilon = epsilon\n",
        "        self.Q = np.zeros((env.Ns, env.Na))\n",
        "        self.Nsa = np.ones((env.Ns, env.Na))\n",
        "    \n",
        "    def sample_action(self, state):  # There is no greedy sampling is Sarsa ;)\n",
        "\n",
        "        # Epsilon keep decreasing, so you are always on-policy while exploring\n",
        "        epsilon = self.epsilon / math.sqrt(self.Nsa[state].min())\n",
        "\n",
        "        # Sample current policy\n",
        "        if np.random.uniform(0, 1) < epsilon:\n",
        "          action = np.random.choice(self.env.actions)\n",
        "        else:\n",
        "          action = self.Q[state, :].argmax()\n",
        "        return action\n",
        "        \n",
        "    def update(self, state, action, next_state, next_action, reward, done):\n",
        "\n",
        "        alpha = self.learning_rate / math.sqrt(self.Nsa[state, action])\n",
        "        \n",
        "        if not done:\n",
        "          next_q = self.Q[next_state, next_action]\n",
        "        else:\n",
        "          next_q = 0.  # We do not bootstrap further\n",
        "        \n",
        "        q = self.Q[state, action]\n",
        "        increment = (reward + self.gamma*next_q) - q\n",
        "\n",
        "        # Update\n",
        "        self.Q[state, action] = self.Q[state, action] + alpha*increment\n",
        "        self.Nsa[state, action] += 1\n"
      ],
      "execution_count": 0,
      "outputs": []
    },
    {
      "cell_type": "code",
      "metadata": {
        "id": "Be0d4nOBOX5R",
        "colab_type": "code",
        "outputId": "0b6a9ea7-d36f-479f-fb37-c22620516097",
        "colab": {
          "base_uri": "https://localhost:8080/",
          "height": 121
        }
      },
      "source": [
        "agent = SARSA(env, gamma=env.gamma, learning_rate=1, epsilon=0.6)\n",
        "\n",
        "# Define storage and variable\n",
        "q_all = []\n",
        "r_all = []\n",
        "pi_all = []\n",
        "max_steps = int(5e4)\n",
        "\n",
        "# main algorithmic loop\n",
        "state = env.reset()\n",
        "action = agent.sample_action(state)\n",
        "\n",
        "for t in range(max_steps):\n",
        "    \n",
        "  # Sample the environment\n",
        "  next_state, reward, done, _ = env.step(action)\n",
        "  next_action = agent.sample_action(next_state)\n",
        "\n",
        "  # Update q-function\n",
        "  agent.update(state=state, action=action, next_state=next_state, next_action=next_action, reward=reward, done=done)\n",
        "\n",
        "  # Iterate\n",
        "  state = next_state\n",
        "  action = next_action\n",
        "  if done:\n",
        "    state = env.reset()\n",
        "\n",
        "# Fake greedy policy (Greedy policy does not truly exist in Sarsa)\n",
        "dpi = agent.Q.argmax(axis=1)\n",
        "print(env.render_policy(dpi))\n"
      ],
      "execution_count": 0,
      "outputs": [
        {
          "output_type": "stream",
          "text": [
            "+-------+\n",
            "|>:>:>:>|\n",
            "|^:>:^:^|\n",
            "|>:>:>:^|\n",
            "+-------+\n",
            "None\n"
          ],
          "name": "stdout"
        }
      ]
    },
    {
      "cell_type": "code",
      "metadata": {
        "id": "rp-xiiRsTLm2",
        "colab_type": "code",
        "outputId": "388b7c22-9df1-48dc-8763-171734468145",
        "colab": {
          "base_uri": "https://localhost:8080/",
          "height": 639
        }
      },
      "source": [
        "state = env.reset()\n",
        "env.render()\n",
        "for i in range(5):\n",
        "    action = agent.sample_action(state)\n",
        "    state, reward, done, _ = env.step(action)\n",
        "    env.render()"
      ],
      "execution_count": 0,
      "outputs": [
        {
          "output_type": "stream",
          "text": [
            "+-------+\n",
            "| : : :G|\n",
            "| :x: : |\n",
            "|\u001b[43mS\u001b[0m: : : |\n",
            "+-------+\n",
            "\n",
            "+-------+\n",
            "| : : :G|\n",
            "| :x: : |\n",
            "|S:\u001b[43m_\u001b[0m: : |\n",
            "+-------+\n",
            "  (right)\n",
            "+-------+\n",
            "| : : :G|\n",
            "| :x: : |\n",
            "|S: :\u001b[43m_\u001b[0m: |\n",
            "+-------+\n",
            "  (right)\n",
            "+-------+\n",
            "| : : :G|\n",
            "| :x: : |\n",
            "|S: : :\u001b[43m_\u001b[0m|\n",
            "+-------+\n",
            "  (right)\n",
            "+-------+\n",
            "| : : :G|\n",
            "| :x: :\u001b[43m_\u001b[0m|\n",
            "|S: : : |\n",
            "+-------+\n",
            "  (up)\n",
            "+-------+\n",
            "| : : :\u001b[42mG\u001b[0m|\n",
            "| :x: : |\n",
            "|S: : : |\n",
            "+-------+\n",
            "  (up)\n"
          ],
          "name": "stdout"
        }
      ]
    },
    {
      "cell_type": "code",
      "metadata": {
        "id": "108X_GejSOWr",
        "colab_type": "code",
        "outputId": "8b97d046-ce35-4ab4-b363-2badd03df1d9",
        "colab": {
          "base_uri": "https://localhost:8080/",
          "height": 121
        }
      },
      "source": [
        "# Procedural implementation\n",
        "\n",
        "\n",
        "# Define a softmax function\n",
        "def softmax(x):\n",
        "  return np.exp(x) / np.sum(np.exp(x))\n",
        " \n",
        "\n",
        "# Define storage and variable\n",
        "max_steps = int(5e4)\n",
        "gamma = 0.99\n",
        "ini_learning_rate = 1. \n",
        "ini_temperature = 1.\n",
        "Nsa = np.ones((env.Ns, env.Na))\n",
        "\n",
        "# Intialize the agent\n",
        "Q = np.zeros((env.Ns, env.Na))\n",
        "\n",
        "\n",
        "# main algorithmic loop\n",
        "state = env.reset()\n",
        "\n",
        "policy = softmax(Q[state, :] / ini_temperature)\n",
        "action = np.random.choice(env.actions, p=policy)\n",
        "\n",
        "for t in range(max_steps):\n",
        "    \n",
        "\n",
        "  ### Sample the environment\n",
        "  next_state, reward, done, _ = env.step(action)\n",
        "\n",
        "\n",
        "  ### Sample the next action\n",
        "  temperature = ini_temperature / math.sqrt(Nsa[state].min())\n",
        "  policy = softmax(Q[next_state, :] / temperature)\n",
        "  next_action = np.random.choice(env.actions, p=policy)\n",
        "\n",
        "\n",
        "  ### Estimate the td error\n",
        "\n",
        "  # Decrease learning rate\n",
        "  alpha = ini_learning_rate / math.sqrt(Nsa[state, action])\n",
        "\n",
        "  # Do not bootstrap when agent is in terminal state\n",
        "  if not done:\n",
        "    q = Q[state, action]\n",
        "    next_q = Q[next_state, next_action]\n",
        "  else:\n",
        "    q = Q[state, action]\n",
        "    next_q = 0.  \n",
        "\n",
        "  # Compute td-error (beware of the minus)  \n",
        "  td_increment= (reward + gamma*next_q) - q\n",
        "\n",
        "\n",
        "  ### Update the agent\n",
        "  Q[state, action] += alpha*td_increment\n",
        "  Nsa[state, action] += 1\n",
        "\n",
        "\n",
        "  ### Iterate\n",
        "  state = next_state\n",
        "  action = next_action\n",
        "  if done:\n",
        "    state = env.reset()\n",
        "\n",
        "# Fake greedy policy (Greedy policy does not truly exist in Sarsa)\n",
        "dpi = agent.Q.argmax(axis=1)\n",
        "print(env.render_policy(dpi))\n",
        "\n"
      ],
      "execution_count": 0,
      "outputs": [
        {
          "output_type": "stream",
          "text": [
            "+-------+\n",
            "|>:>:>:>|\n",
            "|^:>:^:^|\n",
            "|>:>:>:^|\n",
            "+-------+\n",
            "None\n"
          ],
          "name": "stdout"
        }
      ]
    },
    {
      "cell_type": "code",
      "metadata": {
        "id": "luzj2j_6iIE7",
        "colab_type": "code",
        "colab": {}
      },
      "source": [
        ""
      ],
      "execution_count": 0,
      "outputs": []
    }
  ]
}